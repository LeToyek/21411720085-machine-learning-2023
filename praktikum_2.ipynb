{
  "nbformat": 4,
  "nbformat_minor": 0,
  "metadata": {
    "colab": {
      "provenance": [],
      "gpuType": "T4",
      "authorship_tag": "ABX9TyObvFcOhuS89ZuGUA3QYgEd",
      "include_colab_link": true
    },
    "kernelspec": {
      "name": "python3",
      "display_name": "Python 3"
    },
    "language_info": {
      "name": "python"
    },
    "accelerator": "GPU"
  },
  "cells": [
    {
      "cell_type": "markdown",
      "metadata": {
        "id": "view-in-github",
        "colab_type": "text"
      },
      "source": [
        "<a href=\"https://colab.research.google.com/github/LeToyek/2141720085-machine-learning-2023/blob/main/praktikum_2.ipynb\" target=\"_parent\"><img src=\"https://colab.research.google.com/assets/colab-badge.svg\" alt=\"Open In Colab\"/></a>"
      ]
    },
    {
      "cell_type": "code",
      "execution_count": 1,
      "metadata": {
        "id": "nkotOlFlcQjk"
      },
      "outputs": [],
      "source": [
        "import tensorflow as tf\n",
        "import numpy as np\n",
        "import os\n",
        "import time"
      ]
    },
    {
      "cell_type": "code",
      "source": [
        "path_to_file = tf.keras.utils.get_file('shakespeare.txt', 'https://storage.googleapis.com/download.tensorflow.org/data/shakespeare.txt')"
      ],
      "metadata": {
        "colab": {
          "base_uri": "https://localhost:8080/"
        },
        "id": "FvkIrsAwcYNI",
        "outputId": "aabbad1f-410c-4fca-a10d-ec8c82914ec0"
      },
      "execution_count": 2,
      "outputs": [
        {
          "output_type": "stream",
          "name": "stdout",
          "text": [
            "Downloading data from https://storage.googleapis.com/download.tensorflow.org/data/shakespeare.txt\n",
            "1115394/1115394 [==============================] - 0s 0us/step\n"
          ]
        }
      ]
    },
    {
      "cell_type": "code",
      "source": [
        "# Read, then decode for py2 compat.\n",
        "text = open(path_to_file, 'rb').read().decode(encoding='utf-8')\n",
        "# length of text is the number of characters in it\n",
        "print(f'Length of text: {len(text)} characters')"
      ],
      "metadata": {
        "colab": {
          "base_uri": "https://localhost:8080/"
        },
        "id": "PAuxSwPrcegf",
        "outputId": "4ed078d7-9784-4d7a-a5c4-5b6a02b4ac26"
      },
      "execution_count": 3,
      "outputs": [
        {
          "output_type": "stream",
          "name": "stdout",
          "text": [
            "Length of text: 1115394 characters\n"
          ]
        }
      ]
    },
    {
      "cell_type": "code",
      "source": [
        "# Take a look at the first 250 characters in text\n",
        "print(text[:250])"
      ],
      "metadata": {
        "colab": {
          "base_uri": "https://localhost:8080/"
        },
        "id": "pCbYPb77chHv",
        "outputId": "085ec1dc-7c13-4273-c1fa-d0d1f13a42f6"
      },
      "execution_count": 4,
      "outputs": [
        {
          "output_type": "stream",
          "name": "stdout",
          "text": [
            "First Citizen:\n",
            "Before we proceed any further, hear me speak.\n",
            "\n",
            "All:\n",
            "Speak, speak.\n",
            "\n",
            "First Citizen:\n",
            "You are all resolved rather to die than to famish?\n",
            "\n",
            "All:\n",
            "Resolved. resolved.\n",
            "\n",
            "First Citizen:\n",
            "First, you know Caius Marcius is chief enemy to the people.\n",
            "\n"
          ]
        }
      ]
    },
    {
      "cell_type": "code",
      "source": [
        "# The unique characters in the file\n",
        "vocab = sorted(set(text))\n",
        "print(f'{len(vocab)} unique characters')"
      ],
      "metadata": {
        "colab": {
          "base_uri": "https://localhost:8080/"
        },
        "id": "JwYMgTSfck4C",
        "outputId": "04177d6a-86c4-41bb-ddf7-cc61a663ccde"
      },
      "execution_count": 5,
      "outputs": [
        {
          "output_type": "stream",
          "name": "stdout",
          "text": [
            "65 unique characters\n"
          ]
        }
      ]
    },
    {
      "cell_type": "code",
      "source": [
        "example_texts = ['abcdefg', 'xyz']\n",
        "chars = tf.strings.unicode_split(example_texts, input_encoding='UTF-8')\n",
        "chars"
      ],
      "metadata": {
        "colab": {
          "base_uri": "https://localhost:8080/"
        },
        "id": "t40vr4RIcmwn",
        "outputId": "ef343228-48e8-47af-9a5f-b42fa520ec72"
      },
      "execution_count": 6,
      "outputs": [
        {
          "output_type": "execute_result",
          "data": {
            "text/plain": [
              "<tf.RaggedTensor [[b'a', b'b', b'c', b'd', b'e', b'f', b'g'], [b'x', b'y', b'z']]>"
            ]
          },
          "metadata": {},
          "execution_count": 6
        }
      ]
    },
    {
      "cell_type": "code",
      "source": [
        "ids_from_chars=tf.keras.layers.StringLookup(vocabulary=list(vocab),mask_token=None)"
      ],
      "metadata": {
        "id": "JeVeEI9-crnz"
      },
      "execution_count": 7,
      "outputs": []
    },
    {
      "cell_type": "code",
      "source": [
        "ids = ids_from_chars(chars)\n",
        "ids"
      ],
      "metadata": {
        "colab": {
          "base_uri": "https://localhost:8080/"
        },
        "id": "gp2G7p3qc1jZ",
        "outputId": "93c16040-c28f-4449-d890-9194d3c73d6f"
      },
      "execution_count": 8,
      "outputs": [
        {
          "output_type": "execute_result",
          "data": {
            "text/plain": [
              "<tf.RaggedTensor [[40, 41, 42, 43, 44, 45, 46], [63, 64, 65]]>"
            ]
          },
          "metadata": {},
          "execution_count": 8
        }
      ]
    },
    {
      "cell_type": "code",
      "source": [
        "chars_from_ids = tf.keras.layers.StringLookup(\n",
        "    vocabulary=ids_from_chars.get_vocabulary(), invert=True, mask_token=None)"
      ],
      "metadata": {
        "id": "rMGIOt_Yc-ma"
      },
      "execution_count": 9,
      "outputs": []
    },
    {
      "cell_type": "code",
      "source": [
        "chars = chars_from_ids(ids)\n",
        "chars"
      ],
      "metadata": {
        "colab": {
          "base_uri": "https://localhost:8080/"
        },
        "id": "UwroFEHsdBLi",
        "outputId": "6e9b8c8e-3841-497e-d651-062c7689edc2"
      },
      "execution_count": 10,
      "outputs": [
        {
          "output_type": "execute_result",
          "data": {
            "text/plain": [
              "<tf.RaggedTensor [[b'a', b'b', b'c', b'd', b'e', b'f', b'g'], [b'x', b'y', b'z']]>"
            ]
          },
          "metadata": {},
          "execution_count": 10
        }
      ]
    },
    {
      "cell_type": "code",
      "source": [
        "tf.strings.reduce_join(chars,axis=-1).numpy()"
      ],
      "metadata": {
        "colab": {
          "base_uri": "https://localhost:8080/"
        },
        "id": "0Labcn84dEFB",
        "outputId": "22b34877-0051-4c16-8386-24efe88ed792"
      },
      "execution_count": 11,
      "outputs": [
        {
          "output_type": "execute_result",
          "data": {
            "text/plain": [
              "array([b'abcdefg', b'xyz'], dtype=object)"
            ]
          },
          "metadata": {},
          "execution_count": 11
        }
      ]
    },
    {
      "cell_type": "code",
      "source": [
        "def text_from_ids(ids):\n",
        "    return tf.strings.reduce_join(chars_from_ids(ids), axis=-1)"
      ],
      "metadata": {
        "id": "tLmJ9E4NdGX7"
      },
      "execution_count": 12,
      "outputs": []
    },
    {
      "cell_type": "code",
      "source": [
        "all_ids = ids_from_chars(tf.strings.unicode_split(text, 'UTF-8'))\n",
        "all_ids"
      ],
      "metadata": {
        "colab": {
          "base_uri": "https://localhost:8080/"
        },
        "id": "9dg1bYDxdMY4",
        "outputId": "a6c35866-c9de-4d93-e760-e6113664a7a5"
      },
      "execution_count": 13,
      "outputs": [
        {
          "output_type": "execute_result",
          "data": {
            "text/plain": [
              "<tf.Tensor: shape=(1115394,), dtype=int64, numpy=array([19, 48, 57, ..., 46,  9,  1])>"
            ]
          },
          "metadata": {},
          "execution_count": 13
        }
      ]
    },
    {
      "cell_type": "code",
      "source": [
        "ids_dataset = tf.data.Dataset.from_tensor_slices(all_ids)"
      ],
      "metadata": {
        "id": "4hfxrh7qdULe"
      },
      "execution_count": 14,
      "outputs": []
    },
    {
      "cell_type": "code",
      "source": [
        "for ids in ids_dataset.take(10):\n",
        "    print(chars_from_ids(ids).numpy().decode('utf-8'))"
      ],
      "metadata": {
        "colab": {
          "base_uri": "https://localhost:8080/"
        },
        "id": "u4i-YpEcdXWU",
        "outputId": "3e25dd33-4899-4a6e-f5ff-50ecda9d7cd3"
      },
      "execution_count": 15,
      "outputs": [
        {
          "output_type": "stream",
          "name": "stdout",
          "text": [
            "F\n",
            "i\n",
            "r\n",
            "s\n",
            "t\n",
            " \n",
            "C\n",
            "i\n",
            "t\n",
            "i\n"
          ]
        }
      ]
    },
    {
      "cell_type": "code",
      "source": [
        "seq_length=100"
      ],
      "metadata": {
        "id": "Fpr8_8NOdbXZ"
      },
      "execution_count": 16,
      "outputs": []
    },
    {
      "cell_type": "code",
      "source": [
        "sequences = ids_dataset.batch(seq_length+1, drop_remainder=True)\n",
        "\n",
        "for seq in sequences.take(1):\n",
        "  print(chars_from_ids(seq))"
      ],
      "metadata": {
        "colab": {
          "base_uri": "https://localhost:8080/"
        },
        "id": "Rmr9sO_jdfam",
        "outputId": "33330fb4-be0c-4e42-df81-5638c876d5bb"
      },
      "execution_count": 17,
      "outputs": [
        {
          "output_type": "stream",
          "name": "stdout",
          "text": [
            "tf.Tensor(\n",
            "[b'F' b'i' b'r' b's' b't' b' ' b'C' b'i' b't' b'i' b'z' b'e' b'n' b':'\n",
            " b'\\n' b'B' b'e' b'f' b'o' b'r' b'e' b' ' b'w' b'e' b' ' b'p' b'r' b'o'\n",
            " b'c' b'e' b'e' b'd' b' ' b'a' b'n' b'y' b' ' b'f' b'u' b'r' b't' b'h'\n",
            " b'e' b'r' b',' b' ' b'h' b'e' b'a' b'r' b' ' b'm' b'e' b' ' b's' b'p'\n",
            " b'e' b'a' b'k' b'.' b'\\n' b'\\n' b'A' b'l' b'l' b':' b'\\n' b'S' b'p' b'e'\n",
            " b'a' b'k' b',' b' ' b's' b'p' b'e' b'a' b'k' b'.' b'\\n' b'\\n' b'F' b'i'\n",
            " b'r' b's' b't' b' ' b'C' b'i' b't' b'i' b'z' b'e' b'n' b':' b'\\n' b'Y'\n",
            " b'o' b'u' b' '], shape=(101,), dtype=string)\n"
          ]
        }
      ]
    },
    {
      "cell_type": "code",
      "source": [
        "for seq in sequences.take(5):\n",
        "    print(text_from_ids(seq).numpy())"
      ],
      "metadata": {
        "colab": {
          "base_uri": "https://localhost:8080/"
        },
        "id": "1XROHnUadhZ7",
        "outputId": "27ae15ac-3264-4750-e526-a2c030a811b1"
      },
      "execution_count": 18,
      "outputs": [
        {
          "output_type": "stream",
          "name": "stdout",
          "text": [
            "b'First Citizen:\\nBefore we proceed any further, hear me speak.\\n\\nAll:\\nSpeak, speak.\\n\\nFirst Citizen:\\nYou '\n",
            "b'are all resolved rather to die than to famish?\\n\\nAll:\\nResolved. resolved.\\n\\nFirst Citizen:\\nFirst, you k'\n",
            "b\"now Caius Marcius is chief enemy to the people.\\n\\nAll:\\nWe know't, we know't.\\n\\nFirst Citizen:\\nLet us ki\"\n",
            "b\"ll him, and we'll have corn at our own price.\\nIs't a verdict?\\n\\nAll:\\nNo more talking on't; let it be d\"\n",
            "b'one: away, away!\\n\\nSecond Citizen:\\nOne word, good citizens.\\n\\nFirst Citizen:\\nWe are accounted poor citi'\n"
          ]
        }
      ]
    },
    {
      "cell_type": "code",
      "source": [
        "def split_input_target(sequence):\n",
        " input_text = sequence[:-1]\n",
        " target_text = sequence[1:]\n",
        " return input_text, target_text"
      ],
      "metadata": {
        "id": "himsXLofdl4_"
      },
      "execution_count": 19,
      "outputs": []
    },
    {
      "cell_type": "code",
      "source": [
        "split_input_target(list(\"Tensorflow\"))"
      ],
      "metadata": {
        "colab": {
          "base_uri": "https://localhost:8080/"
        },
        "id": "qoYQSViAdq-I",
        "outputId": "c0e2b9b4-92c8-468b-aa7b-d6a408a9d47d"
      },
      "execution_count": 20,
      "outputs": [
        {
          "output_type": "execute_result",
          "data": {
            "text/plain": [
              "(['T', 'e', 'n', 's', 'o', 'r', 'f', 'l', 'o'],\n",
              " ['e', 'n', 's', 'o', 'r', 'f', 'l', 'o', 'w'])"
            ]
          },
          "metadata": {},
          "execution_count": 20
        }
      ]
    },
    {
      "cell_type": "code",
      "source": [
        "dataset = sequences.map(split_input_target)"
      ],
      "metadata": {
        "id": "NO7HI5A9dsqX"
      },
      "execution_count": 21,
      "outputs": []
    },
    {
      "cell_type": "code",
      "source": [
        "for input_example, target_example in dataset.take(1):\n",
        " print(\"Input :\", text_from_ids(input_example).numpy())\n",
        " print(\"Target:\", text_from_ids(target_example).numpy())"
      ],
      "metadata": {
        "colab": {
          "base_uri": "https://localhost:8080/"
        },
        "id": "_uu-6fcPdwQF",
        "outputId": "74f94190-70d7-4ca8-cf6a-502cf10d69c9"
      },
      "execution_count": 22,
      "outputs": [
        {
          "output_type": "stream",
          "name": "stdout",
          "text": [
            "Input : b'First Citizen:\\nBefore we proceed any further, hear me speak.\\n\\nAll:\\nSpeak, speak.\\n\\nFirst Citizen:\\nYou'\n",
            "Target: b'irst Citizen:\\nBefore we proceed any further, hear me speak.\\n\\nAll:\\nSpeak, speak.\\n\\nFirst Citizen:\\nYou '\n"
          ]
        }
      ]
    },
    {
      "cell_type": "code",
      "source": [
        "# Batch size\n",
        "BATCH_SIZE = 64\n",
        "\n",
        "# Buffer size to shuffle the dataset\n",
        "# (TF data is designed to work with possibly infinite sequences,\n",
        "# so it doesn't attempt to shuffle the entire sequence in memory. Instead,\n",
        "# it maintains a buffer in which it shuffles elements).\n",
        "BUFFER_SIZE = 10000\n",
        "\n",
        "dataset = (\n",
        "    dataset\n",
        "    .shuffle(BUFFER_SIZE)\n",
        "    .batch(BATCH_SIZE, drop_remainder=True)\n",
        "    .prefetch(tf.data.experimental.AUTOTUNE))\n",
        "\n",
        "dataset"
      ],
      "metadata": {
        "colab": {
          "base_uri": "https://localhost:8080/"
        },
        "id": "5tyV6XBXd0HC",
        "outputId": "92f3975c-5c25-40fd-c40d-de4a543e254f"
      },
      "execution_count": 23,
      "outputs": [
        {
          "output_type": "execute_result",
          "data": {
            "text/plain": [
              "<_PrefetchDataset element_spec=(TensorSpec(shape=(64, 100), dtype=tf.int64, name=None), TensorSpec(shape=(64, 100), dtype=tf.int64, name=None))>"
            ]
          },
          "metadata": {},
          "execution_count": 23
        }
      ]
    },
    {
      "cell_type": "code",
      "source": [
        "# Length of the vocabulary in StringLookup Layer\n",
        "vocab_size = len(ids_from_chars.get_vocabulary())\n",
        "\n",
        "# The embedding dimension\n",
        "embedding_dim = 256\n",
        "\n",
        "# Number of RNN units\n",
        "rnn_units = 1024"
      ],
      "metadata": {
        "id": "rc7YUt62d2DN"
      },
      "execution_count": 24,
      "outputs": []
    },
    {
      "cell_type": "code",
      "source": [
        "class MyModel(tf.keras.Model):\n",
        "  def __init__(self, vocab_size, embedding_dim, rnn_units):\n",
        "    super().__init__(self)\n",
        "    self.embedding = tf.keras.layers.Embedding(vocab_size, embedding_dim)\n",
        "    self.gru = tf.keras.layers.GRU(rnn_units,\n",
        "                                   return_sequences=True,\n",
        "                                   return_state=True)\n",
        "    self.dense = tf.keras.layers.Dense(vocab_size)\n",
        "\n",
        "  def call(self, inputs, states=None, return_state=False, training=False):\n",
        "    x = inputs\n",
        "    x = self.embedding(x, training=training)\n",
        "    if states is None:\n",
        "      states = self.gru.get_initial_state(x)\n",
        "    x, states = self.gru(x, initial_state=states, training=training)\n",
        "    x = self.dense(x, training=training)\n",
        "\n",
        "    if return_state:\n",
        "      return x, states\n",
        "    else:\n",
        "      return x"
      ],
      "metadata": {
        "id": "zbTfUdwTd39x"
      },
      "execution_count": 25,
      "outputs": []
    },
    {
      "cell_type": "code",
      "source": [
        "model = MyModel(\n",
        "    vocab_size=vocab_size,\n",
        "    embedding_dim=embedding_dim,\n",
        "    rnn_units=rnn_units)"
      ],
      "metadata": {
        "id": "lTLP9KJMd5JM"
      },
      "execution_count": 26,
      "outputs": []
    },
    {
      "cell_type": "code",
      "source": [
        "for input_example_batch, target_example_batch in dataset.take(1):\n",
        "    example_batch_predictions = model(input_example_batch)\n",
        "    print(example_batch_predictions.shape, \"# (batch_size, sequence_length, vocab_size)\")"
      ],
      "metadata": {
        "colab": {
          "base_uri": "https://localhost:8080/"
        },
        "id": "HeTYz66id6nD",
        "outputId": "5660186f-e70e-48ac-dcf8-ab735edd0b6b"
      },
      "execution_count": 27,
      "outputs": [
        {
          "output_type": "stream",
          "name": "stdout",
          "text": [
            "(64, 100, 66) # (batch_size, sequence_length, vocab_size)\n"
          ]
        }
      ]
    },
    {
      "cell_type": "code",
      "source": [
        "model.summary()"
      ],
      "metadata": {
        "colab": {
          "base_uri": "https://localhost:8080/"
        },
        "id": "lOvUWQnOd8SR",
        "outputId": "44630cf5-f970-4e8f-8716-1e715a940cdf"
      },
      "execution_count": 28,
      "outputs": [
        {
          "output_type": "stream",
          "name": "stdout",
          "text": [
            "Model: \"my_model\"\n",
            "_________________________________________________________________\n",
            " Layer (type)                Output Shape              Param #   \n",
            "=================================================================\n",
            " embedding (Embedding)       multiple                  16896     \n",
            "                                                                 \n",
            " gru (GRU)                   multiple                  3938304   \n",
            "                                                                 \n",
            " dense (Dense)               multiple                  67650     \n",
            "                                                                 \n",
            "=================================================================\n",
            "Total params: 4022850 (15.35 MB)\n",
            "Trainable params: 4022850 (15.35 MB)\n",
            "Non-trainable params: 0 (0.00 Byte)\n",
            "_________________________________________________________________\n"
          ]
        }
      ]
    },
    {
      "cell_type": "code",
      "source": [
        "sampled_indices=tf.random.categorical(example_batch_predictions[0],num_samples=1)\n",
        "sampled_indices=tf.squeeze(sampled_indices,axis=-1).numpy()"
      ],
      "metadata": {
        "id": "7914u1RpeHDV"
      },
      "execution_count": 29,
      "outputs": []
    },
    {
      "cell_type": "code",
      "source": [
        "sampled_indices"
      ],
      "metadata": {
        "colab": {
          "base_uri": "https://localhost:8080/"
        },
        "id": "WFYEAQd3eN0z",
        "outputId": "0d49da17-7cec-4bae-bdc8-5f5b5968375e"
      },
      "execution_count": 30,
      "outputs": [
        {
          "output_type": "execute_result",
          "data": {
            "text/plain": [
              "array([37, 61, 42, 12, 35,  7, 24, 57, 63, 27, 61,  9, 32, 45, 42, 23, 24,\n",
              "        9, 26, 27, 12, 48, 48, 38, 61, 59, 10, 40, 34,  2, 44, 41, 26,  7,\n",
              "       51, 63,  5, 11, 62, 46, 61, 46, 40, 25, 19, 53, 15, 61, 42, 38, 62,\n",
              "       52, 53,  4, 49,  6, 22, 16, 14, 29, 50, 55, 37, 59, 34,  9, 27,  1,\n",
              "       29, 44, 21,  2,  7, 15, 44, 30,  1, 20, 33, 47, 22, 15, 23, 43, 62,\n",
              "       31,  7, 61, 36, 63, 37, 59, 35, 55, 64, 12, 36, 59, 37, 35])"
            ]
          },
          "metadata": {},
          "execution_count": 30
        }
      ]
    },
    {
      "cell_type": "code",
      "source": [
        "print(\"Input:\\n\", text_from_ids(input_example_batch[0]).numpy())\n",
        "print()\n",
        "print(\"Next Char Predictions:\\n\", text_from_ids(sampled_indices).numpy())"
      ],
      "metadata": {
        "colab": {
          "base_uri": "https://localhost:8080/"
        },
        "id": "gGumQaw6ePdY",
        "outputId": "f8c2f516-0355-4da7-c346-19f7123858f0"
      },
      "execution_count": 31,
      "outputs": [
        {
          "output_type": "stream",
          "name": "stdout",
          "text": [
            "Input:\n",
            " b'hree parts\\nmelted away with rotten dews, the fourth would return\\nfor conscience sake, to help to get'\n",
            "\n",
            "Next Char Predictions:\n",
            " b\"Xvc;V,KrxNv.SfcJK.MN;iiYvt3aU ebM,lx&:wgvgaLFnBvcYwmn$j'ICAPkpXtU.N\\nPeH ,BeQ\\nGThIBJdwR,vWxXtVpy;WtXV\"\n"
          ]
        }
      ]
    },
    {
      "cell_type": "code",
      "source": [
        "loss = tf.losses.SparseCategoricalCrossentropy(from_logits=True)"
      ],
      "metadata": {
        "id": "Mntz8gyDeSzJ"
      },
      "execution_count": 32,
      "outputs": []
    },
    {
      "cell_type": "code",
      "source": [
        "example_batch_mean_loss = loss(target_example_batch, example_batch_predictions)\n",
        "print(\"Prediction shape: \", example_batch_predictions.shape, \" # (batch_size, sequence_length, vocab_size)\")\n",
        "print(\"Mean loss:        \", example_batch_mean_loss)"
      ],
      "metadata": {
        "colab": {
          "base_uri": "https://localhost:8080/"
        },
        "id": "OVPS14zPeWrv",
        "outputId": "28a9631e-691a-42de-954b-de3051b54fb8"
      },
      "execution_count": 33,
      "outputs": [
        {
          "output_type": "stream",
          "name": "stdout",
          "text": [
            "Prediction shape:  (64, 100, 66)  # (batch_size, sequence_length, vocab_size)\n",
            "Mean loss:         tf.Tensor(4.189019, shape=(), dtype=float32)\n"
          ]
        }
      ]
    },
    {
      "cell_type": "code",
      "source": [
        "tf.exp(example_batch_mean_loss).numpy()"
      ],
      "metadata": {
        "colab": {
          "base_uri": "https://localhost:8080/"
        },
        "id": "8Qp-CaAVeZJH",
        "outputId": "c0f5a1f5-ac42-4d96-a1aa-a3701db390b5"
      },
      "execution_count": 34,
      "outputs": [
        {
          "output_type": "execute_result",
          "data": {
            "text/plain": [
              "65.95807"
            ]
          },
          "metadata": {},
          "execution_count": 34
        }
      ]
    },
    {
      "cell_type": "code",
      "source": [
        "model.compile(optimizer='adam',loss=loss)"
      ],
      "metadata": {
        "id": "0nq91I33ebPS"
      },
      "execution_count": 35,
      "outputs": []
    },
    {
      "cell_type": "code",
      "source": [
        "# Directory where the checkpoints will be saved\n",
        "checkpoint_dir = './training_checkpoints'\n",
        "# Name of the checkpoint files\n",
        "checkpoint_prefix = os.path.join(checkpoint_dir, \"ckpt_{epoch}\")\n",
        "\n",
        "checkpoint_callback = tf.keras.callbacks.ModelCheckpoint(\n",
        "    filepath=checkpoint_prefix,\n",
        "    save_weights_only=True)"
      ],
      "metadata": {
        "id": "e9QGkUOPeeKw"
      },
      "execution_count": 36,
      "outputs": []
    },
    {
      "cell_type": "code",
      "source": [
        "EPOCHS=20"
      ],
      "metadata": {
        "id": "DGPpahK1ese7"
      },
      "execution_count": 37,
      "outputs": []
    },
    {
      "cell_type": "code",
      "source": [
        "history = model.fit(dataset, epochs=EPOCHS, callbacks=[checkpoint_callback])\n"
      ],
      "metadata": {
        "colab": {
          "base_uri": "https://localhost:8080/"
        },
        "id": "aV24XdtLe3KH",
        "outputId": "3d75ae3b-1e82-489f-fd87-5649feafd9f6"
      },
      "execution_count": 38,
      "outputs": [
        {
          "output_type": "stream",
          "name": "stdout",
          "text": [
            "Epoch 1/20\n",
            "172/172 [==============================] - 17s 57ms/step - loss: 2.7175\n",
            "Epoch 2/20\n",
            "172/172 [==============================] - 11s 56ms/step - loss: 1.9834\n",
            "Epoch 3/20\n",
            "172/172 [==============================] - 11s 56ms/step - loss: 1.7062\n",
            "Epoch 4/20\n",
            "172/172 [==============================] - 11s 57ms/step - loss: 1.5475\n",
            "Epoch 5/20\n",
            "172/172 [==============================] - 12s 58ms/step - loss: 1.4484\n",
            "Epoch 6/20\n",
            "172/172 [==============================] - 12s 58ms/step - loss: 1.3816\n",
            "Epoch 7/20\n",
            "172/172 [==============================] - 12s 58ms/step - loss: 1.3293\n",
            "Epoch 8/20\n",
            "172/172 [==============================] - 11s 56ms/step - loss: 1.2838\n",
            "Epoch 9/20\n",
            "172/172 [==============================] - 11s 57ms/step - loss: 1.2440\n",
            "Epoch 10/20\n",
            "172/172 [==============================] - 11s 58ms/step - loss: 1.2041\n",
            "Epoch 11/20\n",
            "172/172 [==============================] - 12s 58ms/step - loss: 1.1647\n",
            "Epoch 12/20\n",
            "172/172 [==============================] - 12s 58ms/step - loss: 1.1241\n",
            "Epoch 13/20\n",
            "172/172 [==============================] - 11s 57ms/step - loss: 1.0805\n",
            "Epoch 14/20\n",
            "172/172 [==============================] - 11s 57ms/step - loss: 1.0353\n",
            "Epoch 15/20\n",
            "172/172 [==============================] - 12s 58ms/step - loss: 0.9863\n",
            "Epoch 16/20\n",
            "172/172 [==============================] - 11s 58ms/step - loss: 0.9351\n",
            "Epoch 17/20\n",
            "172/172 [==============================] - 11s 58ms/step - loss: 0.8831\n",
            "Epoch 18/20\n",
            "172/172 [==============================] - 11s 57ms/step - loss: 0.8311\n",
            "Epoch 19/20\n",
            "172/172 [==============================] - 12s 57ms/step - loss: 0.7787\n",
            "Epoch 20/20\n",
            "172/172 [==============================] - 13s 58ms/step - loss: 0.7307\n"
          ]
        }
      ]
    },
    {
      "cell_type": "code",
      "source": [
        "class OneStep(tf.keras.Model):\n",
        "  def __init__(self, model, chars_from_ids, ids_from_chars, temperature=1.0):\n",
        "    super().__init__()\n",
        "    self.temperature = temperature\n",
        "    self.model = model\n",
        "    self.chars_from_ids = chars_from_ids\n",
        "    self.ids_from_chars = ids_from_chars\n",
        "\n",
        "    # Create a mask to prevent \"[UNK]\" from being generated.\n",
        "    skip_ids = self.ids_from_chars(['[UNK]'])[:, None]\n",
        "    sparse_mask = tf.SparseTensor(\n",
        "        # Put a -inf at each bad index.\n",
        "        values=[-float('inf')]*len(skip_ids),\n",
        "        indices=skip_ids,\n",
        "        # Match the shape to the vocabulary\n",
        "        dense_shape=[len(ids_from_chars.get_vocabulary())])\n",
        "    self.prediction_mask = tf.sparse.to_dense(sparse_mask)\n",
        "\n",
        "  @tf.function\n",
        "  def generate_one_step(self, inputs, states=None):\n",
        "    # Convert strings to token IDs.\n",
        "    input_chars = tf.strings.unicode_split(inputs, 'UTF-8')\n",
        "    input_ids = self.ids_from_chars(input_chars).to_tensor()\n",
        "\n",
        "    # Run the model.\n",
        "    # predicted_logits.shape is [batch, char, next_char_logits]\n",
        "    predicted_logits, states = self.model(inputs=input_ids, states=states,\n",
        "                                          return_state=True)\n",
        "    # Only use the last prediction.\n",
        "    predicted_logits = predicted_logits[:, -1, :]\n",
        "    predicted_logits = predicted_logits/self.temperature\n",
        "    # Apply the prediction mask: prevent \"[UNK]\" from being generated.\n",
        "    predicted_logits = predicted_logits + self.prediction_mask\n",
        "\n",
        "    # Sample the output logits to generate token IDs.\n",
        "    predicted_ids = tf.random.categorical(predicted_logits, num_samples=1)\n",
        "    predicted_ids = tf.squeeze(predicted_ids, axis=-1)\n",
        "\n",
        "    # Convert from token ids to characters\n",
        "    predicted_chars = self.chars_from_ids(predicted_ids)\n",
        "\n",
        "    # Return the characters and model state.\n",
        "    return predicted_chars, states"
      ],
      "metadata": {
        "id": "sPyHe5wve6gL"
      },
      "execution_count": 39,
      "outputs": []
    },
    {
      "cell_type": "code",
      "source": [
        "one_step_model = OneStep(model, chars_from_ids, ids_from_chars)"
      ],
      "metadata": {
        "id": "utM8RyeNjliN"
      },
      "execution_count": 41,
      "outputs": []
    },
    {
      "cell_type": "code",
      "source": [
        "start = time.time()\n",
        "states = None\n",
        "next_char = tf.constant(['ROMEO:'])\n",
        "result = [next_char]\n",
        "\n",
        "for n in range(1000):\n",
        "  next_char, states = one_step_model.generate_one_step(next_char, states=states)\n",
        "  result.append(next_char)\n",
        "\n",
        "result = tf.strings.join(result)\n",
        "end = time.time()\n",
        "print(result[0].numpy().decode('utf-8'), '\\n\\n' + '_'*80)\n",
        "print('\\nRun time:', end - start)"
      ],
      "metadata": {
        "colab": {
          "base_uri": "https://localhost:8080/"
        },
        "id": "8Gu6qkPajouI",
        "outputId": "77530e2a-a71e-4a1a-9645-0abef7bd3b7f"
      },
      "execution_count": 42,
      "outputs": [
        {
          "output_type": "stream",
          "name": "stdout",
          "text": [
            "ROMEO:\n",
            "Why, then I would till we do leave his uncle Give me his eyes:\n",
            "Yes, I have dispatch'd with thee with flamens\n",
            "and in her own leisure shall be here.\n",
            "The fish; we were at many given again\n",
            "To die 'Windings for them not the foot\n",
            "To body brandigmory of the field?\n",
            "\n",
            "ANGELO:\n",
            "Be not so lock.\n",
            "\n",
            "ADRIAN:\n",
            "Unless your honour from the people, i' faith, I make known\n",
            "By any little fouthful of your own;\n",
            "The butterfly, you promised them;\n",
            "And what our deproof and grues have thee, for, all lose those men yielded with,\n",
            "'imnight and deceit had interr'd him.\n",
            "Give me his name: do you will go with him;\n",
            "And were I appleeding, as good night in garteness,\n",
            "Looking on it every tale agory:\n",
            "The deer is Northumberland, I smould not then come ready,\n",
            "To be of smile, and let him have been so leave?\n",
            "I told you yet thus to do well they: what, widow!\n",
            "\n",
            "KATHARINA:\n",
            "A dead midis o'er shed sil certain at any thing;\n",
            "Call her servile to another deed thus his sentence:\n",
            "This is proud height's distracted majesty,\n",
            "His oath without a pie \n",
            "\n",
            "________________________________________________________________________________\n",
            "\n",
            "Run time: 4.057064056396484\n"
          ]
        }
      ]
    },
    {
      "cell_type": "code",
      "source": [
        "start = time.time()\n",
        "states = None\n",
        "next_char = tf.constant(['ROMEO:', 'ROMEO:', 'ROMEO:', 'ROMEO:', 'ROMEO:'])\n",
        "result = [next_char]\n",
        "\n",
        "for n in range(1000):\n",
        "  next_char, states = one_step_model.generate_one_step(next_char, states=states)\n",
        "  result.append(next_char)\n",
        "\n",
        "result = tf.strings.join(result)\n",
        "end = time.time()\n",
        "print(result, '\\n\\n' + '_'*80)\n",
        "print('\\nRun time:', end - start)"
      ],
      "metadata": {
        "colab": {
          "base_uri": "https://localhost:8080/"
        },
        "id": "zYfx5ZXFjpZt",
        "outputId": "28fc0295-1fad-48cd-939e-78559319363b"
      },
      "execution_count": 43,
      "outputs": [
        {
          "output_type": "stream",
          "name": "stdout",
          "text": [
            "tf.Tensor(\n",
            "[b\"ROMEO:\\nThe consuls is mine opinion, in the way\\nThe head of Raggar likeness of them; it changed\\nHe would believe their choice is\\nrequests me, indeed, and we swears,\\nWhich with it brings and title act enemies.\\nFather, Bean a morn? why, thy day's matter well, he\\ncarries in my son's exile that did resure\\nFloodly in the people's eyes in despair:\\nOne will bring thus pardon.\\n\\nVINCENTIO:\\nWhen goes will then had rather be together\\nAll, not to replieve thy messing:\\nSuch conscience and subscribe than my poor eyes,\\nThat made them known, and do! I'll have this sorrow\\nAnd secret slaughter'd houses my elish. When I stood\\nBoth, with thy birth,--of struck, strike!\\nYet Romeo may'st at Derong fall of a mar\\nThan tonguetion on my sighs! cry 'Ay.'\\nAnd speak of seems blest in death, new-caparaced\\nWill I do to Whee Merruity. What\\nI came to her hope, my dear Rome,\\nKate them for it: if thou wilt surden deny\\nhas they thought or modest as ever.\\n\\nBUCKINGHAM:\\nWhy, then thus--like those in Vienna,\\nAnd gilly fellows henry \"\n",
            " b\"ROMEO:\\nThe manner of the north, but where after him:\\n'Tis show to an else? view thee, gentle heaven!\\n\\nHENRY BOLINGBROKE:\\nNirst Henry, and Stanley linea.\\nWe two hope thou art banish'd: but, I speak?\\nI say, two dart out for thy son shall reign\\nWith one dissension of your royal blood.\\n\\nGLOUCESTER:\\nThe gods god on her, thus sait so rock?\\n\\nTYBALT:\\nBefore the Fourth, I know he loves me,\\nIs this knowly gall'd wife of done,\\nThat fear'd on one sip or the revolt\\nAs he is fear of thee, thy house is,\\nSuch as to wash your place.\\n\\nARCHIDAMUS:\\nWhat is the ear forth! I had rather venge\\nThat's son by our time; do I sent for thee.\\n\\nAbone that had his office reposed\\nTheir lords, at all the envious floods discourtes, why,\\nUpon his unkiss'd him, he comes by the oak?\\nO tear, I fear, I prithee, sinca be kept,\\nCompare I now by prisoner that is dead.\\nThe end of the rest forth his own be asleet?\\nIf I was force, Antigonus, is open's eyes:\\nLet's scarce this afternoon?\\n\\nPOMPEY:\\nGentleman-a pair of stay us all!\\nThe new-d\"\n",
            " b\"ROMEO:\\nThe giddy love discovereign, let's for my countrymen;\\nThou wilt perfume thy husband on.\\nMy friends to pay good Bolingbroke.\\n\\nGREGORY:\\nRomeo is between us.\\n\\nVISCENTIO:\\nI think she'll to Venice:\\nThe compass of a braining folk!\\n\\nMENENIUS:\\nWhat is the woo comes Romeo's banishment?\\n\\nRATCLIFF:\\nThis do, sir, go with thee! Fare you we derived as to false prison:\\nNay, wherefore storms made them maid: he has\\nnew-enver i' the earth? and why most dear lord,\\nI am not banish'd on a day:\\nVouchsafe, though I could die for your kindness,\\nIf poor conscience twice in their eyes, slaughter,\\nI am glory to incre: but we may cherress thee?\\nDive me the effection with my wested.\\n\\nBISHOP OF ELY:\\nMonage, my lord.\\n\\nMAMILLIUS:\\nNay, it is full of mine, yet little and what stay\\nCan Is thy revengef wift her hedmend;\\nWhilst thou blow my mother, mother! with, thy corsent\\nThat I should sprandle to his pre-employ'd man?\\nWhat reply to thy forces dead.\\n\\nGLOUCESTER:\\nThe bigning this is heaven to a feeling?\\n\\nPedant:\\nGod sir\"\n",
            " b\"ROMEO:\\nPeace, will out for him, I have to woo her age.\\n\\nGONZALO:\\nI do ever fain his own behavidy,\\n'Thus far indued by player thee in is!\\nThy letter for the life that letters blame.\\nYet 'busin God farewell, where I will provide to our eyes;\\nThere should ensel'd upon my counsellor; let him king,\\nThat I absolve to seem thee here, he goes,\\nTo comfort them? My slander and his life\\nAnd keep no grief, but that they say the trouble?\\n\\nLADY CAPULET:\\nNo, no, if I make, my lord.\\n\\nLEONTES:\\nWhat! I will undone! how goes your worship's ear!\\n\\nTYBALT:\\nBoldly in golden crown and his men have done,\\nThat valiant and unappidened blassing. Take thy bark,\\nAnd wet my cheeks flouted slain.\\nThen will I do well prophers, if agains\\nto help you to perdit them all;\\nAnd then in gold and publish brazel and take\\nAs if thy word: where should my fault are\\nthey enjoy, by this semmix'd youth\\nThis custom are those persons would send to red.\\n\\nSAMPSON:\\nNever, Patis; my mother, cover'd with a temphed\\nWell the pector of the house of\"\n",
            " b\"ROMEO:\\nIf the king's ship.\\n\\nTHOMAS MOWBRAY:\\nFaith, I'll not touch for your defilence,\\nAnd with thy fresh friends will storm received the hearts into\\nmy daughter a mystery wherein myself within!\\nAnd wetches 'twere from out appear, after a little graves,\\nWhich we woo'd thee, if they be a very ill\\nGod-den, thy unkindness quit it.\\n\\nGLOUCESTER:\\nBut all is suffer as the iron carse:\\nWhere your hands should have them more I'er natural sword,\\nWhich doth return unknown and put your boy within,\\nAnd with the jewal haste that do\\ncaring them. Wench, if I came not there.\\nGallant of the tell-the trumpets took possession.\\n3 KING HENRY VI\\n\\nRICHARD:\\nNo, Warwick, that: my father we through my cheeks!\\nWhat, not a wear, and father is bold.\\nThe king's sun is quiet and dull completies.\\nThe dotes do presume to lose my wounds:\\nI'll tell you hence: till thy characters is deliver'd.\\n\\nAUTOLYCUS:\\n\\nShepherd:\\nAnd you, my noble cousin will I lie?\\n\\nBUCKINGHAM:\\nMy lord, the duke, go leave to fight in them.\\n\\nNerse: what of all\"], shape=(5,), dtype=string) \n",
            "\n",
            "________________________________________________________________________________\n",
            "\n",
            "Run time: 5.477812051773071\n"
          ]
        }
      ]
    },
    {
      "cell_type": "code",
      "source": [
        "tf.saved_model.save(one_step_model, 'one_step')\n",
        "one_step_reloaded = tf.saved_model.load('one_step')"
      ],
      "metadata": {
        "colab": {
          "base_uri": "https://localhost:8080/"
        },
        "id": "zwDz-FaNjrhI",
        "outputId": "22f94cc3-78e8-41c8-a929-47be83d292c9"
      },
      "execution_count": 44,
      "outputs": [
        {
          "output_type": "stream",
          "name": "stderr",
          "text": [
            "WARNING:tensorflow:Skipping full serialization of Keras layer <__main__.OneStep object at 0x7d4572770d60>, because it is not built.\n",
            "WARNING:tensorflow:Model's `__init__()` arguments contain non-serializable objects. Please implement a `get_config()` method in the subclassed Model for proper saving and loading. Defaulting to empty config.\n",
            "WARNING:tensorflow:Model's `__init__()` arguments contain non-serializable objects. Please implement a `get_config()` method in the subclassed Model for proper saving and loading. Defaulting to empty config.\n"
          ]
        }
      ]
    },
    {
      "cell_type": "code",
      "source": [
        "states = None\n",
        "next_char = tf.constant(['ROMEO:'])\n",
        "result = [next_char]\n",
        "\n",
        "for n in range(100):\n",
        "  next_char, states = one_step_reloaded.generate_one_step(next_char, states=states)\n",
        "  result.append(next_char)\n",
        "\n",
        "print(tf.strings.join(result)[0].numpy().decode(\"utf-8\"))"
      ],
      "metadata": {
        "colab": {
          "base_uri": "https://localhost:8080/"
        },
        "id": "5TKbUk2Tj4MM",
        "outputId": "c5414661-09b0-409f-bcfd-01e63ce73bb5"
      },
      "execution_count": 45,
      "outputs": [
        {
          "output_type": "stream",
          "name": "stdout",
          "text": [
            "ROMEO:\n",
            "If that made me, lest I tell you, cursed shall you be\n",
            "rememberny yet,--like voice hers, and they ar\n"
          ]
        }
      ]
    }
  ]
}