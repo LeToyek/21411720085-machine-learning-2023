{
 "cells": [
  {
   "cell_type": "code",
   "execution_count": 1,
   "metadata": {},
   "outputs": [],
   "source": [
    "import tensorflow as tf\n",
    "from keras.preprocessing.image import ImageDataGenerator"
   ]
  },
  {
   "cell_type": "code",
   "execution_count": 2,
   "metadata": {},
   "outputs": [
    {
     "name": "stdout",
     "output_type": "stream",
     "text": [
      "Found 8000 images belonging to 2 classes.\n"
     ]
    }
   ],
   "source": [
    "train_datagen = ImageDataGenerator(rescale = 1./255,\n",
    "                                   shear_range = 0.2,\n",
    "                                   zoom_range = 0.2,\n",
    "                                   horizontal_flip = True)\n",
    "training_set = train_datagen.flow_from_directory('./data/dataset/training_set',\n",
    "                                                 target_size = (64, 64),\n",
    "                                                 batch_size = 32,\n",
    "                                                 class_mode = 'binary')"
   ]
  },
  {
   "cell_type": "code",
   "execution_count": 3,
   "metadata": {},
   "outputs": [
    {
     "name": "stdout",
     "output_type": "stream",
     "text": [
      "Found 2000 images belonging to 2 classes.\n"
     ]
    }
   ],
   "source": [
    "\n",
    "test_datagen = ImageDataGenerator(rescale = 1./255)\n",
    "test_set = test_datagen.flow_from_directory('./data/dataset/test_set',\n",
    "                                            target_size = (64, 64),\n",
    "                                            batch_size = 32,\n",
    "                                            class_mode = 'binary')"
   ]
  },
  {
   "cell_type": "code",
   "execution_count": 4,
   "metadata": {},
   "outputs": [],
   "source": [
    "cnn = tf.keras.models.Sequential()"
   ]
  },
  {
   "cell_type": "code",
   "execution_count": 5,
   "metadata": {},
   "outputs": [],
   "source": [
    "cnn.add(tf.keras.layers.Conv2D(filters=32, kernel_size=3, activation='relu', input_shape=[64, 64, 3]))"
   ]
  },
  {
   "cell_type": "code",
   "execution_count": 6,
   "metadata": {},
   "outputs": [],
   "source": [
    "cnn.add(tf.keras.layers.MaxPool2D(pool_size=2, strides=2))"
   ]
  },
  {
   "cell_type": "code",
   "execution_count": 7,
   "metadata": {},
   "outputs": [],
   "source": [
    "cnn.add(tf.keras.layers.Conv2D(filters=32, kernel_size=3, activation='relu'))\n",
    "cnn.add(tf.keras.layers.MaxPool2D(pool_size=2, strides=2))"
   ]
  },
  {
   "cell_type": "code",
   "execution_count": 8,
   "metadata": {},
   "outputs": [],
   "source": [
    "cnn.add(tf.keras.layers.Flatten())"
   ]
  },
  {
   "cell_type": "code",
   "execution_count": 9,
   "metadata": {},
   "outputs": [],
   "source": [
    "cnn.add(tf.keras.layers.Dense(units=128, activation='relu'))"
   ]
  },
  {
   "cell_type": "code",
   "execution_count": 10,
   "metadata": {},
   "outputs": [],
   "source": [
    "cnn.add(tf.keras.layers.Dense(units=1, activation='sigmoid'))"
   ]
  },
  {
   "cell_type": "code",
   "execution_count": 11,
   "metadata": {},
   "outputs": [],
   "source": [
    "cnn.compile(optimizer = 'adam', loss = 'binary_crossentropy', metrics = ['accuracy'])"
   ]
  },
  {
   "cell_type": "code",
   "execution_count": 12,
   "metadata": {},
   "outputs": [
    {
     "name": "stdout",
     "output_type": "stream",
     "text": [
      "Epoch 1/25\n",
      "250/250 [==============================] - 519s 2s/step - loss: 0.6917 - accuracy: 0.5296 - val_loss: 0.6764 - val_accuracy: 0.5655\n",
      "Epoch 2/25\n",
      "250/250 [==============================] - 79s 316ms/step - loss: 0.6661 - accuracy: 0.5961 - val_loss: 0.6440 - val_accuracy: 0.6480\n",
      "Epoch 3/25\n",
      "250/250 [==============================] - 78s 313ms/step - loss: 0.6355 - accuracy: 0.6455 - val_loss: 0.6270 - val_accuracy: 0.6775\n",
      "Epoch 4/25\n",
      "250/250 [==============================] - 103s 411ms/step - loss: 0.6086 - accuracy: 0.6649 - val_loss: 0.6102 - val_accuracy: 0.6670\n",
      "Epoch 5/25\n",
      "250/250 [==============================] - 96s 385ms/step - loss: 0.5885 - accuracy: 0.6845 - val_loss: 0.5670 - val_accuracy: 0.7175\n",
      "Epoch 6/25\n",
      "250/250 [==============================] - 70s 281ms/step - loss: 0.5518 - accuracy: 0.7161 - val_loss: 0.5332 - val_accuracy: 0.7465\n",
      "Epoch 7/25\n",
      "250/250 [==============================] - 66s 263ms/step - loss: 0.5260 - accuracy: 0.7383 - val_loss: 0.5883 - val_accuracy: 0.6895\n",
      "Epoch 8/25\n",
      "250/250 [==============================] - 69s 276ms/step - loss: 0.4977 - accuracy: 0.7531 - val_loss: 0.5153 - val_accuracy: 0.7530\n",
      "Epoch 9/25\n",
      "250/250 [==============================] - 66s 265ms/step - loss: 0.4770 - accuracy: 0.7655 - val_loss: 0.5449 - val_accuracy: 0.7475\n",
      "Epoch 10/25\n",
      "250/250 [==============================] - 65s 258ms/step - loss: 0.4584 - accuracy: 0.7774 - val_loss: 0.5210 - val_accuracy: 0.7535\n",
      "Epoch 11/25\n",
      "250/250 [==============================] - 63s 252ms/step - loss: 0.4492 - accuracy: 0.7895 - val_loss: 0.5464 - val_accuracy: 0.7470\n",
      "Epoch 12/25\n",
      "250/250 [==============================] - 72s 287ms/step - loss: 0.4180 - accuracy: 0.8031 - val_loss: 0.5158 - val_accuracy: 0.7775\n",
      "Epoch 13/25\n",
      "250/250 [==============================] - 82s 327ms/step - loss: 0.4058 - accuracy: 0.8185 - val_loss: 0.4895 - val_accuracy: 0.7825\n",
      "Epoch 14/25\n",
      "250/250 [==============================] - 76s 304ms/step - loss: 0.3829 - accuracy: 0.8250 - val_loss: 0.5112 - val_accuracy: 0.7585\n",
      "Epoch 15/25\n",
      "250/250 [==============================] - 70s 281ms/step - loss: 0.3740 - accuracy: 0.8322 - val_loss: 0.5855 - val_accuracy: 0.7310\n",
      "Epoch 16/25\n",
      "250/250 [==============================] - 70s 279ms/step - loss: 0.3555 - accuracy: 0.8422 - val_loss: 0.5438 - val_accuracy: 0.7730\n",
      "Epoch 17/25\n",
      "250/250 [==============================] - 69s 275ms/step - loss: 0.3389 - accuracy: 0.8504 - val_loss: 0.4922 - val_accuracy: 0.7825\n",
      "Epoch 18/25\n",
      "250/250 [==============================] - 71s 284ms/step - loss: 0.3187 - accuracy: 0.8591 - val_loss: 0.5018 - val_accuracy: 0.7845\n",
      "Epoch 19/25\n",
      "250/250 [==============================] - 65s 260ms/step - loss: 0.3051 - accuracy: 0.8676 - val_loss: 0.6753 - val_accuracy: 0.7250\n",
      "Epoch 20/25\n",
      "250/250 [==============================] - 61s 243ms/step - loss: 0.2934 - accuracy: 0.8795 - val_loss: 0.5489 - val_accuracy: 0.7620\n",
      "Epoch 21/25\n",
      "250/250 [==============================] - 60s 241ms/step - loss: 0.2736 - accuracy: 0.8888 - val_loss: 0.6279 - val_accuracy: 0.7500\n",
      "Epoch 22/25\n",
      "250/250 [==============================] - 58s 232ms/step - loss: 0.2616 - accuracy: 0.8913 - val_loss: 0.5524 - val_accuracy: 0.7860\n",
      "Epoch 23/25\n",
      "250/250 [==============================] - 73s 292ms/step - loss: 0.2613 - accuracy: 0.8899 - val_loss: 0.5865 - val_accuracy: 0.7635\n",
      "Epoch 24/25\n",
      "250/250 [==============================] - 59s 235ms/step - loss: 0.2263 - accuracy: 0.9115 - val_loss: 0.5740 - val_accuracy: 0.7780\n",
      "Epoch 25/25\n",
      "250/250 [==============================] - 62s 248ms/step - loss: 0.2190 - accuracy: 0.9089 - val_loss: 0.5864 - val_accuracy: 0.7840\n"
     ]
    },
    {
     "data": {
      "text/plain": [
       "<keras.src.callbacks.History at 0x24289746e10>"
      ]
     },
     "execution_count": 12,
     "metadata": {},
     "output_type": "execute_result"
    }
   ],
   "source": [
    "cnn.fit(x = training_set, validation_data = test_set, epochs = 25)"
   ]
  },
  {
   "cell_type": "code",
   "execution_count": 13,
   "metadata": {},
   "outputs": [
    {
     "name": "stdout",
     "output_type": "stream",
     "text": [
      "1/1 [==============================] - 0s 445ms/step\n"
     ]
    }
   ],
   "source": [
    "import numpy as np\n",
    "from keras.preprocessing import image\n",
    "test_image = image.load_img('./data/dataset/single_prediction/cat_or_dog_1.jpg', target_size = (64, 64))\n",
    "test_image = image.img_to_array(test_image)\n",
    "test_image = np.expand_dims(test_image, axis = 0)\n",
    "result = cnn.predict(test_image)\n",
    "training_set.class_indices\n",
    "if result[0][0] == 1:\n",
    "  prediction = 'dog'\n",
    "else:\n",
    "  prediction = 'cat'"
   ]
  }
 ],
 "metadata": {
  "kernelspec": {
   "display_name": "base",
   "language": "python",
   "name": "python3"
  },
  "language_info": {
   "codemirror_mode": {
    "name": "ipython",
    "version": 3
   },
   "file_extension": ".py",
   "mimetype": "text/x-python",
   "name": "python",
   "nbconvert_exporter": "python",
   "pygments_lexer": "ipython3",
   "version": "3.11.4"
  }
 },
 "nbformat": 4,
 "nbformat_minor": 2
}
